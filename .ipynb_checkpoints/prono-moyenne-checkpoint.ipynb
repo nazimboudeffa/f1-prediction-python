{
 "cells": [
  {
   "cell_type": "code",
   "execution_count": 2,
   "id": "db194516-0f3c-4fed-94df-028a5c292284",
   "metadata": {},
   "outputs": [
    {
     "name": "stdout",
     "output_type": "stream",
     "text": [
      "   Round                   Race        Date      Driver Constructor  Grid  \\\n",
      "0      1  Australian Grand Prix  2025-03-16      Norris     McLaren     1   \n",
      "1      1  Australian Grand Prix  2025-03-16  Verstappen    Red Bull     3   \n",
      "2      1  Australian Grand Prix  2025-03-16     Russell    Mercedes     4   \n",
      "3      1  Australian Grand Prix  2025-03-16   Antonelli    Mercedes    16   \n",
      "4      1  Australian Grand Prix  2025-03-16       Albon    Williams     6   \n",
      "\n",
      "   Position    Status  Points  \n",
      "0         1  Finished    25.0  \n",
      "1         2  Finished    18.0  \n",
      "2         3  Finished    15.0  \n",
      "3         4  Finished    12.0  \n",
      "4         5  Finished    10.0  \n"
     ]
    }
   ],
   "source": [
    "import requests\n",
    "import pandas as pd\n",
    "\n",
    "# Charger les résultats 2025\n",
    "url = \"https://api.jolpi.ca/ergast/f1/2025/results.json?limit=1000\"\n",
    "response = requests.get(url)\n",
    "\n",
    "if response.status_code == 200:\n",
    "    data = response.json()\n",
    "    races = data['MRData']['RaceTable']['Races']\n",
    "\n",
    "    results = []\n",
    "    for race in races:\n",
    "        for result in race['Results']:\n",
    "            results.append({\n",
    "                'Round': int(race['round']),\n",
    "                'Race': race['raceName'],\n",
    "                'Date': race['date'],\n",
    "                'Driver': result['Driver']['familyName'],\n",
    "                'Constructor': result['Constructor']['name'],\n",
    "                'Grid': int(result['grid']),\n",
    "                'Position': int(result['position']),\n",
    "                'Status': result['status'],\n",
    "                'Points': float(result['points'])\n",
    "            })\n",
    "\n",
    "    df = pd.DataFrame(results)\n",
    "    print(df.head())\n",
    "else:\n",
    "    raise Exception(\"Erreur lors de la récupération des données.\")"
   ]
  },
  {
   "cell_type": "code",
   "execution_count": 3,
   "id": "4f8359bc-2a47-47f6-a644-c13973191c3a",
   "metadata": {},
   "outputs": [
    {
     "name": "stdout",
     "output_type": "stream",
     "text": [
      "                   Driver Number\n",
      "0            Lando Norris      4\n",
      "1          Max Verstappen     33\n",
      "2          George Russell     63\n",
      "3   Andrea Kimi Antonelli     12\n",
      "4         Alexander Albon     23\n",
      "5            Lance Stroll     18\n",
      "6         Nico Hülkenberg     27\n",
      "7         Charles Leclerc     16\n",
      "8           Oscar Piastri     81\n",
      "9          Lewis Hamilton     44\n",
      "10           Pierre Gasly     10\n",
      "11           Yuki Tsunoda     22\n",
      "12           Esteban Ocon     31\n",
      "13         Oliver Bearman     87\n",
      "14            Liam Lawson     30\n",
      "15      Gabriel Bortoleto      5\n",
      "16        Fernando Alonso     14\n",
      "17           Carlos Sainz     55\n",
      "18            Jack Doohan      7\n",
      "19           Isack Hadjar      6\n"
     ]
    }
   ],
   "source": [
    "# Parse drivers\n",
    "results = data['MRData']['RaceTable']['Races'][0]['Results']\n",
    "driver_list = []\n",
    "\n",
    "for r in results:\n",
    "    driver = r['Driver']\n",
    "    number = driver.get('permanentNumber', None)\n",
    "    name = f\"{driver['givenName']} {driver['familyName']}\"\n",
    "    driver_list.append({'Driver': name, 'Number': number})\n",
    "\n",
    "df_drivers = pd.DataFrame(driver_list)\n",
    "print(df_drivers)"
   ]
  },
  {
   "cell_type": "code",
   "execution_count": 4,
   "id": "ababeedc-7530-498f-a550-205ff83a46be",
   "metadata": {},
   "outputs": [],
   "source": [
    "# On ne garde que les arrivées terminées\n",
    "df = df[df['Status'] == 'Finished']\n",
    "\n",
    "# Trier par numéro de manche\n",
    "df.sort_values(by='Round', inplace=True)"
   ]
  },
  {
   "cell_type": "code",
   "execution_count": 5,
   "id": "1872ca49-d401-40eb-88df-d6a57c453b98",
   "metadata": {},
   "outputs": [],
   "source": [
    "# Fonction pour prédire la prochaine position en moyenne pondérée\n",
    "def predict_position(driver_name, grid_pos, history_df):\n",
    "    driver_data = history_df[history_df['Driver'] == driver_name]\n",
    "    if len(driver_data) < 2:\n",
    "        return grid_pos  # Si peu de données, on revient à la grille\n",
    "\n",
    "    # Moyenne pondérée basée sur ses dernières courses\n",
    "    weight = range(1, len(driver_data) + 1)\n",
    "    weighted_avg = sum(p * w for p, w in zip(driver_data['Position'], weight)) / sum(weight)\n",
    "\n",
    "    # Ajustement simple : on rapproche un peu de la grille\n",
    "    return 0.7 * weighted_avg + 0.3 * grid_pos"
   ]
  },
  {
   "cell_type": "code",
   "execution_count": 6,
   "id": "8412c7ce-56dd-4809-8af3-2593f04e64e8",
   "metadata": {},
   "outputs": [
    {
     "name": "stdout",
     "output_type": "stream",
     "text": [
      "        Driver  Grid  Position  Predicted\n",
      "80     Piastri     2         1   2.280000\n",
      "81  Verstappen     1         2   2.890000\n",
      "84     Russell     3         5   3.140000\n",
      "82     Leclerc     4         3   4.466667\n",
      "83      Norris    10         4   4.610000\n",
      "86    Hamilton     7         7   6.650000\n",
      "85   Antonelli     5         6   6.960000\n",
      "88       Albon    11         9   9.880000\n",
      "87       Sainz     6         8  10.666667\n",
      "92     Bearman    15        13  11.500000\n",
      "89      Hadjar    14        10  11.900000\n",
      "93        Ocon    19        14  13.330000\n",
      "90      Alonso    13        11  13.466667\n",
      "91      Lawson    12        12  14.566667\n"
     ]
    }
   ],
   "source": [
    "rounds = sorted(df['Round'].unique())\n",
    "last_round = rounds[-1]\n",
    "df_train = df[df['Round'] < last_round]\n",
    "df_test = df[df['Round'] == last_round]\n",
    "\n",
    "# Prédictions\n",
    "predictions = []\n",
    "\n",
    "for _, row in df_test.iterrows():\n",
    "    pred = predict_position(row['Driver'], row['Grid'], df_train)\n",
    "    predictions.append(pred)\n",
    "\n",
    "# Ajouter au DataFrame test\n",
    "df_test = df_test.copy()\n",
    "df_test['Predicted'] = predictions\n",
    "\n",
    "# Affichage des 10 premiers résultats\n",
    "print(df_test[['Driver', 'Grid', 'Position', 'Predicted']].sort_values('Predicted'))"
   ]
  },
  {
   "cell_type": "code",
   "execution_count": 7,
   "id": "57869ed7-62a2-4ce8-8a02-648750a0fba5",
   "metadata": {},
   "outputs": [
    {
     "name": "stdout",
     "output_type": "stream",
     "text": [
      "Erreur moyenne absolue : 1.43 positions\n"
     ]
    }
   ],
   "source": [
    "df_test['Error'] = abs(df_test['Predicted'] - df_test['Position'])\n",
    "mean_error = df_test['Error'].mean()\n",
    "print(f\"Erreur moyenne absolue : {mean_error:.2f} positions\")"
   ]
  },
  {
   "cell_type": "code",
   "execution_count": null,
   "id": "57562610-6633-4a6b-9ae2-7938b25e618d",
   "metadata": {},
   "outputs": [],
   "source": []
  }
 ],
 "metadata": {
  "kernelspec": {
   "display_name": "Python 3 (ipykernel)",
   "language": "python",
   "name": "python3"
  },
  "language_info": {
   "codemirror_mode": {
    "name": "ipython",
    "version": 3
   },
   "file_extension": ".py",
   "mimetype": "text/x-python",
   "name": "python",
   "nbconvert_exporter": "python",
   "pygments_lexer": "ipython3",
   "version": "3.13.2"
  }
 },
 "nbformat": 4,
 "nbformat_minor": 5
}
