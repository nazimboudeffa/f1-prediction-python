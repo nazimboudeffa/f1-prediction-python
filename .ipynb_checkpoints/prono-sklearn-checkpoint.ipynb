{
 "cells": [
  {
   "cell_type": "code",
   "execution_count": 14,
   "id": "2773f7b3-3fb0-4151-8327-8869895fd1a2",
   "metadata": {},
   "outputs": [
    {
     "name": "stdout",
     "output_type": "stream",
     "text": [
      "   Round        Date                   Race      Driver Constructor  Grid  \\\n",
      "0      1  2025-03-16  Australian Grand Prix      Norris     McLaren     1   \n",
      "1      1  2025-03-16  Australian Grand Prix  Verstappen    Red Bull     3   \n",
      "2      1  2025-03-16  Australian Grand Prix     Russell    Mercedes     4   \n",
      "3      1  2025-03-16  Australian Grand Prix   Antonelli    Mercedes    16   \n",
      "4      1  2025-03-16  Australian Grand Prix       Albon    Williams     6   \n",
      "\n",
      "   Position    Status  Points  \n",
      "0         1  Finished    25.0  \n",
      "1         2  Finished    18.0  \n",
      "2         3  Finished    15.0  \n",
      "3         4  Finished    12.0  \n",
      "4         5  Finished    10.0  \n"
     ]
    }
   ],
   "source": [
    "import requests\n",
    "import pandas as pd\n",
    "\n",
    "url = \"https://api.jolpi.ca/ergast/f1/2025/results.json?limit=1000\"\n",
    "response = requests.get(url)\n",
    "\n",
    "if response.status_code == 200:\n",
    "    data = response.json()\n",
    "    races = data['MRData']['RaceTable']['Races']\n",
    "\n",
    "    results_list = []\n",
    "\n",
    "    for race in races:\n",
    "        for result in race['Results']:\n",
    "            results_list.append({\n",
    "                'Round': int(race['round']),\n",
    "                'Date': race['date'],\n",
    "                'Race': race['raceName'],\n",
    "                'Driver': result['Driver']['familyName'],\n",
    "                'Constructor': result['Constructor']['name'],\n",
    "                'Grid': int(result['grid']),\n",
    "                'Position': int(result['position']),\n",
    "                'Status': result['status'],\n",
    "                'Points': float(result['points'])\n",
    "            })\n",
    "\n",
    "    df = pd.DataFrame(results_list)\n",
    "    print(df.head())\n",
    "else:\n",
    "    print(f\"Erreur {response.status_code} lors de la récupération des données.\")"
   ]
  },
  {
   "cell_type": "code",
   "execution_count": 15,
   "id": "934b0f10-0f1b-4dd1-b4e9-361b554c10c4",
   "metadata": {},
   "outputs": [
    {
     "name": "stdout",
     "output_type": "stream",
     "text": [
      "                   Driver Number\n",
      "0            Lando Norris      4\n",
      "1          Max Verstappen     33\n",
      "2          George Russell     63\n",
      "3   Andrea Kimi Antonelli     12\n",
      "4         Alexander Albon     23\n",
      "5            Lance Stroll     18\n",
      "6         Nico Hülkenberg     27\n",
      "7         Charles Leclerc     16\n",
      "8           Oscar Piastri     81\n",
      "9          Lewis Hamilton     44\n",
      "10           Pierre Gasly     10\n",
      "11           Yuki Tsunoda     22\n",
      "12           Esteban Ocon     31\n",
      "13         Oliver Bearman     87\n",
      "14            Liam Lawson     30\n",
      "15      Gabriel Bortoleto      5\n",
      "16        Fernando Alonso     14\n",
      "17           Carlos Sainz     55\n",
      "18            Jack Doohan      7\n",
      "19           Isack Hadjar      6\n"
     ]
    }
   ],
   "source": [
    "# Parse drivers\n",
    "results = data['MRData']['RaceTable']['Races'][0]['Results']\n",
    "driver_list = []\n",
    "\n",
    "for r in results:\n",
    "    driver = r['Driver']\n",
    "    number = driver.get('permanentNumber', None)\n",
    "    name = f\"{driver['givenName']} {driver['familyName']}\"\n",
    "    driver_list.append({'Driver': name, 'Number': number})\n",
    "\n",
    "df_drivers = pd.DataFrame(driver_list)\n",
    "print(df_drivers)"
   ]
  },
  {
   "cell_type": "code",
   "execution_count": 16,
   "id": "83f6cd98-a6fa-416e-b292-b740a9972587",
   "metadata": {},
   "outputs": [],
   "source": [
    "# Supprimer les abandons (DNF)\n",
    "df = df[df['Status'] == 'Finished']\n",
    "\n",
    "# Encodage\n",
    "df_encoded = pd.get_dummies(df[['Grid', 'Constructor', 'Driver']])\n",
    "X = df_encoded\n",
    "y = df['Position'] <= 3  # Exemple : prédire si le pilote finit sur le podium"
   ]
  },
  {
   "cell_type": "code",
   "execution_count": 17,
   "id": "a191c296-b23f-45f8-a2e1-b7ceb592f615",
   "metadata": {},
   "outputs": [
    {
     "name": "stdout",
     "output_type": "stream",
     "text": [
      "Accuracy: 0.875\n"
     ]
    }
   ],
   "source": [
    "from sklearn.model_selection import train_test_split\n",
    "from sklearn.ensemble import RandomForestClassifier\n",
    "from sklearn.metrics import accuracy_score\n",
    "\n",
    "# Split\n",
    "X_train, X_test, y_train, y_test = train_test_split(X, y, test_size=0.2, random_state=42)\n",
    "\n",
    "# Modèle\n",
    "model = RandomForestClassifier(n_estimators=100, random_state=42)\n",
    "model.fit(X_train, y_train)\n",
    "\n",
    "# Prédiction\n",
    "y_pred = model.predict(X_test)\n",
    "\n",
    "print(\"Accuracy:\", accuracy_score(y_test, y_pred))"
   ]
  },
  {
   "cell_type": "code",
   "execution_count": 18,
   "id": "71760aaf-a3db-4696-ac41-22c342e81815",
   "metadata": {},
   "outputs": [
    {
     "data": {
      "image/png": "[encoded data removed]",
      "text/plain": [
       "<Figure size 640x480 with 1 Axes>"
      ]
     },
     "metadata": {},
     "output_type": "display_data"
    }
   ],
   "source": [
    "import seaborn as sns\n",
    "import matplotlib.pyplot as plt\n",
    "\n",
    "sns.histplot(df['Position'], bins=20, kde=True)\n",
    "plt.title(\"Distribution des positions finales\")\n",
    "plt.xlabel(\"Position\")\n",
    "plt.ylabel(\"Fréquence\")\n",
    "plt.show()"
   ]
  },
  {
   "cell_type": "code",
   "execution_count": 19,
   "id": "bac3565b-dc51-4b80-95bb-d91941ba77d7",
   "metadata": {},
   "outputs": [
    {
     "name": "stdout",
     "output_type": "stream",
     "text": [
      "Position prédite : 1\n"
     ]
    }
   ],
   "source": [
    "# Exemple de prédiction\n",
    "import numpy as np\n",
    "\n",
    "# Créer un DataFrame pour un nouvel échantillon\n",
    "sample = pd.DataFrame({\n",
    "    'driver_number': [44],  # Numéro du pilote\n",
    "    'grid_position': [5],   # Position sur la grille\n",
    "    'laps': [58],           # Nombre de tours\n",
    "    'points': [0],          # Points (peut être mis à 0 pour la prédiction)\n",
    "    # Encodage de l'équipe (assurez-vous que les colonnes correspondent à celles de l'entraînement)\n",
    "    'constructor_name_Mercedes': [1],\n",
    "    'constructor_name_Red Bull': [0],\n",
    "    'constructor_name_McLaren': [0],\n",
    "    # Ajoutez d'autres équipes si nécessaire\n",
    "})\n",
    "\n",
    "# Ajouter les colonnes manquantes avec des zéros\n",
    "for col in X.columns:\n",
    "    if col not in sample.columns:\n",
    "        sample[col] = 0\n",
    "\n",
    "# Réorganiser les colonnes pour correspondre à l'ordre d'entraînement\n",
    "sample = sample[X.columns]\n",
    "\n",
    "# Prédire la position\n",
    "predicted_position = model.predict(sample)\n",
    "print(f\"Position prédite : {predicted_position[0]:.0f}\")\n"
   ]
  }
 ],
 "metadata": {
  "kernelspec": {
   "display_name": "Python 3 (ipykernel)",
   "language": "python",
   "name": "python3"
  },
  "language_info": {
   "codemirror_mode": {
    "name": "ipython",
    "version": 3
   },
   "file_extension": ".py",
   "mimetype": "text/x-python",
   "name": "python",
   "nbconvert_exporter": "python",
   "pygments_lexer": "ipython3",
   "version": "3.13.2"
  }
 },
 "nbformat": 4,
 "nbformat_minor": 5
}
